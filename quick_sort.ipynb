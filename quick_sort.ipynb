{
 "cells": [
  {
   "cell_type": "code",
   "execution_count": 1,
   "metadata": {
    "collapsed": true
   },
   "outputs": [],
   "source": [
    "def quick_sort(data, left, right): #data是一个列表，left是起始下标，right是最后元素的下标\n",
    "    if left < right:\n",
    "        mid = partition(data, left, right)\n",
    "        quick_sort(data,left,mid-1)\n",
    "        quick_sort(data,mid+1,right)"
   ]
  },
  {
   "cell_type": "code",
   "execution_count": 9,
   "metadata": {},
   "outputs": [],
   "source": [
    "def partition(data,left,right):\n",
    "    tmp = data[left]\n",
    "    while left < right:\n",
    "        while left < right and data[right] >=tmp: #从右边找比tmp小的数\n",
    "            right-=1  # 往左走一步\n",
    "        data[left] = data[right] #把右边的值写到左边空位上\n",
    "        print(data,'right')\n",
    "        while left < right and data[left] <= tmp:\n",
    "            left += 1\n",
    "        data[right] = data[left] #把左边的值写到右边空位上\n",
    "        print(data,'left')\n",
    "    data[left] = tmp  #把tmp归位\n",
    "    return left"
   ]
  },
  {
   "cell_type": "code",
   "execution_count": 10,
   "metadata": {},
   "outputs": [
    {
     "name": "stdout",
     "output_type": "stream",
     "text": [
      "[2, 7, 4, 6, 3, 1, 2, 9, 8] right\n[2, 7, 4, 6, 3, 1, 7, 9, 8] left\n[2, 1, 4, 6, 3, 1, 7, 9, 8] right\n[2, 1, 4, 6, 3, 6, 7, 9, 8] left\n[2, 1, 4, 3, 3, 6, 7, 9, 8] right\n[2, 1, 4, 3, 3, 6, 7, 9, 8] left\n[2, 1, 4, 3, 5, 6, 7, 9, 8]\n"
     ]
    }
   ],
   "source": [
    "li = [5,7,4,6,3,1,2,9,8]\n",
    "partition(li,0,len(li)-1)\n",
    "print(li)"
   ]
  },
  {
   "cell_type": "code",
   "execution_count": 12,
   "metadata": {},
   "outputs": [
    {
     "name": "stdout",
     "output_type": "stream",
     "text": [
      "[2, 7, 4, 6, 3, 1, 2, 9, 8] right\n[2, 7, 4, 6, 3, 1, 7, 9, 8] left\n[2, 1, 4, 6, 3, 1, 7, 9, 8] right\n[2, 1, 4, 6, 3, 6, 7, 9, 8] left\n[2, 1, 4, 3, 3, 6, 7, 9, 8] right\n[2, 1, 4, 3, 3, 6, 7, 9, 8] left\n[1, 1, 4, 3, 5, 6, 7, 9, 8] right\n[1, 1, 4, 3, 5, 6, 7, 9, 8] left\n[1, 2, 3, 3, 5, 6, 7, 9, 8] right\n[1, 2, 3, 3, 5, 6, 7, 9, 8] left\n[1, 2, 3, 4, 5, 6, 7, 9, 8] right\n[1, 2, 3, 4, 5, 6, 7, 9, 8] left\n[1, 2, 3, 4, 5, 6, 7, 9, 8] right\n[1, 2, 3, 4, 5, 6, 7, 9, 8] left\n[1, 2, 3, 4, 5, 6, 7, 8, 8] right\n[1, 2, 3, 4, 5, 6, 7, 8, 8] left\n[1, 2, 3, 4, 5, 6, 7, 8, 9]\n"
     ]
    }
   ],
   "source": [
    "li = [5,7,4,6,3,1,2,9,8]\n",
    "quick_sort(li,0,len(li)-1)\n",
    "print(li)"
   ]
  },
  {
   "cell_type": "code",
   "execution_count": null,
   "metadata": {},
   "outputs": [],
   "source": [
    ""
   ]
  }
 ],
 "metadata": {
  "kernelspec": {
   "display_name": "Python 2",
   "language": "python",
   "name": "python2"
  },
  "language_info": {
   "codemirror_mode": {
    "name": "ipython",
    "version": 2.0
   },
   "file_extension": ".py",
   "mimetype": "text/x-python",
   "name": "python",
   "nbconvert_exporter": "python",
   "pygments_lexer": "ipython2",
   "version": "2.7.6"
  }
 },
 "nbformat": 4,
 "nbformat_minor": 0
}